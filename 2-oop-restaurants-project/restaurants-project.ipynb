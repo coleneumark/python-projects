{
 "cells": [
  {
   "attachments": {},
   "cell_type": "markdown",
   "id": "bb1a1f0a",
   "metadata": {},
   "source": [
    "# Python OOP Assignment 1\n",
    "### Cole Neumark\n",
    "\n",
    "## Exercise One - A Location Class"
   ]
  },
  {
   "cell_type": "markdown",
   "id": "db49a18f",
   "metadata": {},
   "source": [
    "For this exercise, I created the following Location class: <br>\n",
    "-- a constructor (__init__) to assign the object with a private x and y coordinates, <br>\n",
    "-- a setCoordinates method to change the coordinates if needed, <br>\n",
    "-- a getCoordinates method to show the private coordinates, <br>\n",
    "-- a magic method to enable the return of the string (__str__) as the variables' representation for the user, <br>\n",
    "-- and finally the manhattan_dist method to calculate the manhattan distance between two Location objects."
   ]
  },
  {
   "cell_type": "code",
   "execution_count": 345,
   "id": "3a089b2f",
   "metadata": {},
   "outputs": [],
   "source": [
    "class Location:\n",
    "        \n",
    "    def __init__(self, x, y):\n",
    "        self.__x = x\n",
    "        self.__y = y\n",
    "\n",
    "    def setCoordinates(self, x, y):\n",
    "        self.__x = x\n",
    "        self.__y = y\n",
    "        \n",
    "    def getCoordinates(self):\n",
    "        return self.__x, self.__y\n",
    "    \n",
    "    def __str__(self):\n",
    "        s = \"X: \" + str(self.__x) + \", Y: \" + str(self.__y)\n",
    "        return s\n",
    "    \n",
    "    def manhattan_dist(self, other):\n",
    "        calc = abs(self.__x - other.__x) + abs(self.__y - other.__y)\n",
    "        return calc"
   ]
  },
  {
   "cell_type": "markdown",
   "id": "ed31a90e",
   "metadata": {},
   "source": [
    "For Tasks 2, I created the __str__ magic method in the Location class to print the string specified in the output prompt. For Task 3, I created the manhattan_dist method in the Location class and got the desired outcome."
   ]
  },
  {
   "cell_type": "code",
   "execution_count": 346,
   "id": "61981162",
   "metadata": {
    "scrolled": false
   },
   "outputs": [
    {
     "name": "stdout",
     "output_type": "stream",
     "text": [
      "X: 10, Y: 15\n",
      "25\n"
     ]
    }
   ],
   "source": [
    "# Task 2\n",
    "loc = Location(10, 15)\n",
    "print(loc)\n",
    "\n",
    "# Task 3\n",
    "A = Location(10, 15)\n",
    "ref = Location(0, 0)\n",
    "print(ref.manhattan_dist(A))"
   ]
  },
  {
   "cell_type": "markdown",
   "id": "84ec1028",
   "metadata": {},
   "source": [
    "For Task 4, I created randomly generated locations with the randon module in a while loop to populate my Locations list. Then, I printed the list of tuples as a  reference. For the locations' letters given in the sample output, I created a for loop with a counter variable and printed each letter in a letterstring with the location's manhattan_dist(ance) to the ref point established in Task 3."
   ]
  },
  {
   "cell_type": "code",
   "execution_count": 347,
   "id": "55288d02",
   "metadata": {},
   "outputs": [
    {
     "name": "stdout",
     "output_type": "stream",
     "text": [
      "[(-37, -13), (26, 9), (-35, -53), (94, 93), (-79, -2), (51, -84), (9, 74), (18, -74), (28, 29), (9, -52)]\n",
      "Distance of A is : 50\n",
      "Distance of B is : 35\n",
      "Distance of C is : 88\n",
      "Distance of D is : 187\n",
      "Distance of E is : 81\n",
      "Distance of F is : 135\n",
      "Distance of G is : 83\n",
      "Distance of H is : 92\n",
      "Distance of I is : 57\n",
      "Distance of J is : 61\n"
     ]
    }
   ],
   "source": [
    "# Task 4\n",
    "import random\n",
    "Locations = []\n",
    "while len(Locations)<10:\n",
    "    x = random.randint(-100,100)\n",
    "    y = random.randint(-100,100)\n",
    "    coordinate = (x, y)\n",
    "    Locations.append(coordinate)\n",
    "print(Locations)\n",
    "\n",
    "count = 0\n",
    "for i in Locations:\n",
    "        newloc = Location(i[0], i[1])\n",
    "        letter = \"ABCDEFGHIJ\"\n",
    "        print(\"Distance of\", letter[count], \"is :\", ref.manhattan_dist(newloc))\n",
    "        count += 1"
   ]
  },
  {
   "cell_type": "markdown",
   "id": "be59db2e",
   "metadata": {},
   "source": [
    "## Exercise Two - A Restaurant Class"
   ]
  },
  {
   "cell_type": "markdown",
   "id": "225650a3",
   "metadata": {},
   "source": [
    "For this exercise, I created the following Restaurant class:<br> \n",
    "-- a constructor for Restaurant objects (__init__) to assign a name, a location (with the previous Location class), as well as an opening time and a closing time; <br>\n",
    "-- a __str__ method for the variables' representation for the user; <br>\n",
    "-- a get_name method, a get_operating_hours method, and a getLocation method to be able to call upon those values within the Restaurant object; <br>\n",
    "-- a change_operating_hours method to change the operating hours with new values; <br>\n",
    "-- and a is_open method to determine if the Restaurant is open at a specific (current) time."
   ]
  },
  {
   "cell_type": "code",
   "execution_count": 348,
   "id": "510e6956",
   "metadata": {},
   "outputs": [],
   "source": [
    "class Restaurant:\n",
    "    \n",
    "    def __init__(self, name, i, openTime, closeTime):\n",
    "        self.name = name\n",
    "        self.location = Location(i[0], i[1])\n",
    "        self.openTime = openTime\n",
    "        self.closeTime = closeTime\n",
    "        \n",
    "    def __str__(self):\n",
    "        s = \"Restaurant: \"+str(self.name)+\", in \"+str(self.location)\n",
    "        s= s+\", Opening hours: \"+str(self.openTime)+\"-\"+str(self.closeTime)\n",
    "        return s\n",
    "    \n",
    "    def get_name(self):\n",
    "        return self.name\n",
    "        \n",
    "    def get_operating_hours(self):\n",
    "        self.times = (self.openTime, self.closeTime)\n",
    "        return self.times\n",
    "        \n",
    "    def change_operating_hours(self, o, c):\n",
    "        self.openTime = o\n",
    "        self.closeTime = c\n",
    "        \n",
    "    def getLocation(self):\n",
    "        return self.location\n",
    "    \n",
    "    def is_open(self, currentTime):\n",
    "        if currentTime in range(self.openTime, self.closeTime):\n",
    "            return True\n",
    "        else:\n",
    "            return False"
   ]
  },
  {
   "cell_type": "markdown",
   "id": "da3623a8",
   "metadata": {},
   "source": [
    "For Task 1 and Task 3, I got the correct results from my methods as given in the sample outputs:"
   ]
  },
  {
   "cell_type": "code",
   "execution_count": 349,
   "id": "54152488",
   "metadata": {
    "scrolled": false
   },
   "outputs": [
    {
     "name": "stdout",
     "output_type": "stream",
     "text": [
      "Restaurant: Rattatouille, in X: 5, Y: 6, Opening hours: 9-21\n",
      "False\n"
     ]
    }
   ],
   "source": [
    "# Task 1\n",
    "rat = Restaurant(\"Rattatouille\", (5,6), 9, 21)\n",
    "print(rat)\n",
    "\n",
    "# Task 3\n",
    "print(rat.is_open(8))"
   ]
  },
  {
   "cell_type": "markdown",
   "id": "bb7f440e",
   "metadata": {},
   "source": [
    "In Task 4, I used a for loop to create randomised values for my list of 4 restaurants and then manually copied generated values into my variables to create Restaurant objects out of them. While this could have been made more automated with another for loop, I decided to make it simpler for myself as it is a testing method. Finally, a for loop checks each restaurant on the Restaurant_list if it is open during the currentTime."
   ]
  },
  {
   "cell_type": "code",
   "execution_count": 350,
   "id": "9db0c761",
   "metadata": {},
   "outputs": [
    {
     "name": "stdout",
     "output_type": "stream",
     "text": [
      "5\n",
      "Restaurant B is open.\n",
      "Restaurant I is open.\n",
      "Restaurant H is open.\n",
      "Restaurant J is open.\n"
     ]
    }
   ],
   "source": [
    "# Task 4\n",
    "currentTime = random.randint(0,24)\n",
    "print(currentTime)\n",
    "list = []\n",
    "# For loop creating for Restaurants with randomised values\n",
    "for i in range(4):\n",
    "    rest = random.choice(\"ABCDEFGHIJKLMNOPQRSTUVWXYZ\")\n",
    "    x = random.randint(-100,100)\n",
    "    y = random.randint(-100,100)\n",
    "    a = random.randint(0, 24)\n",
    "    b = random.randint(0, 24)\n",
    "    list.append((rest, (x, y), min(a,b), max(a,b)))\n",
    "# print(list)\n",
    "\n",
    "# Generated Restaurant values copied manually into the variables\n",
    "placeA = Restaurant('B', (97, 18), 4, 15)\n",
    "placeB = Restaurant('I', (-47, 4), 1, 9)\n",
    "placeC = Restaurant('H', (-45, 17), 3, 23)\n",
    "placeD = Restaurant('J', (68, 8), 2, 17)\n",
    "Restaurant_list = [placeA, placeB, placeC, placeD]\n",
    "\n",
    "# Checks if restaurants in restaurant list are open at current time\n",
    "for i in Restaurant_list:\n",
    "    if i.is_open(currentTime) == True:\n",
    "        print(\"Restaurant\", i.name, \"is open.\")"
   ]
  },
  {
   "cell_type": "markdown",
   "id": "8817ec0b",
   "metadata": {},
   "source": [
    "## Exercise Three - Find The Closest Restaurant"
   ]
  },
  {
   "cell_type": "markdown",
   "id": "4a5d6e73",
   "metadata": {},
   "source": [
    "For this exercise, I created a Where2Eat_tool class with the following methods: <br>\n",
    "-- the class constructor (__init__) establishing an empty restaurant list, an empty ratings dictionary, and a defined user location through a Location object; <br>\n",
    "-- a reload_location method that changes the user location with a new Location object and prints \"Location changed\" (for the final print statements in Task 3); <br>\n",
    "-- an add_restaurants method that adds a new restaurant object to the Where2Eat_tool's list and a rating to its dictionary <br>\n",
    "-- an add_many_restaurants method that adds new restaurant objects stored in a list and their correlating ratings to the dictionary <br>\n",
    "-- an info method printing a string of the app's information when the method is called <br>\n",
    "-- a where_to_eat method that takes the current time and tries to find the closest restaurant to the user's location. \n",
    "\n",
    "For this, I initialised the dist, rating, choice variables suggested in the final output with the default values given in \"Best option is the None Rating: None Distance: 0\", but I chose -1 for dist to avoid any clashing with restaurants potentially 0 units away from the user. Then I created a for loop to check each restaurants according to the following criteria:<br>\n",
    "---- first, the restaurant needs to be open at the current time<br>\n",
    "---- I assign distance to the current restaurant that is being checked to a temp variable<br>\n",
    "---- if there has been no other restaurant checked yet, it assigns the temp distance to the dist variable and makes it the best option of restaurant<br>\n",
    "---- on the next loop, if the next restaurant is closer than the previous one, it overwrites the dist, choice and rating variables with the new restaurant (which is then repeated for each open restaurant still in the list)<br>\n",
    "---- if two restaurants have the same distance to the user, it overwrites the variables with the restaurant with the higher rating<br>\n",
    "---- if the choice variable is still at its default after the for loop, there was no open restaurant in the list at the time and it prints the statement<br>\n",
    "---- if the rating is not at its default, it adds the string \"/10\" to the variable for the correct rating format<br>\n",
    "---- finally, the method returns the choice, rating, dist variables to be printed with the Task 3 statements.<br>"
   ]
  },
  {
   "cell_type": "code",
   "execution_count": 351,
   "id": "bdd61686",
   "metadata": {},
   "outputs": [],
   "source": [
    "class Where2Eat_tool:\n",
    "    \n",
    "    def __init__(self, x, y):\n",
    "        self.restaurants = []\n",
    "        self.ratings = dict()\n",
    "        self.user_loc = Location(x, y)\n",
    "        \n",
    "    def reload_location(self, a, b):\n",
    "        self.user_loc = Location(a, b)\n",
    "        print(\"Location Changed\")\n",
    "        \n",
    "    def add_restaurants(self, new_rest, rating):\n",
    "        self.restaurants.append(new_rest)\n",
    "        self.ratings[new_rest.name] = rating\n",
    "    \n",
    "    def add_many_restaurants(self, rest_list, rating_list):\n",
    "        for i in rest_list:\n",
    "            self.restaurants.append(rest_list[i])\n",
    "        for i in ratings_list:\n",
    "            self.ratings[rest_list[i].name] = rating\n",
    "    \n",
    "    def info(self):\n",
    "        for i in self.restaurants:\n",
    "            s = str(i)\n",
    "            s = s + \" Rating: \"+str(self.ratings.get(i.name))\n",
    "            s = s +\"/10\"\n",
    "            print(s)\n",
    "            \n",
    "    def where_to_eat(self, curr_time):\n",
    "        dist = -1\n",
    "        rating = None\n",
    "        choice = None\n",
    "        for i in self.restaurants:\n",
    "            if i.is_open(curr_time) == True:\n",
    "                temp_dist = self.user_loc.manhattan_dist(i.location)\n",
    "                if dist == -1:\n",
    "                    dist = temp_dist\n",
    "                    choice = i\n",
    "                    rating = str(self.ratings.get(i.name))\n",
    "                elif dist > temp_dist:\n",
    "                    dist = temp_dist\n",
    "                    choice = i\n",
    "                    rating = str(self.ratings.get(i.name))\n",
    "                elif dist == temp_dist:\n",
    "                    if rating < self.ratings.get(i.name):\n",
    "                        choice = i\n",
    "                        rating = str(self.ratings.get(i.name))\n",
    "        if choice == None:\n",
    "            print(\"There are no restaurants open at this time...\")\n",
    "        if rating != None:\n",
    "            rating = str(rating)+\"/10\"\n",
    "        return choice, rating, dist"
   ]
  },
  {
   "cell_type": "markdown",
   "id": "a174c98b",
   "metadata": {},
   "source": [
    "For Tasks 1 and 2, I created the App object and two Restaurant objects. I added those Restaurant objects to the App object's internal datatypes and printed the sample output through App.info()."
   ]
  },
  {
   "cell_type": "code",
   "execution_count": 352,
   "id": "753d44f1",
   "metadata": {},
   "outputs": [
    {
     "name": "stdout",
     "output_type": "stream",
     "text": [
      "Restaurant: Chick-fil-A, in X: 25, Y: 36, Opening hours: 9-22 Rating: 4/10\n",
      "Restaurant: Rattatouille, in X: 48, Y: 48, Opening hours: 15-23 Rating: 10/10\n"
     ]
    }
   ],
   "source": [
    "# Task 1 & 2\n",
    "App = Where2Eat_tool(0,0)\n",
    "chicki = Restaurant(\"Chick-fil-A\", (25,36), 9, 22)\n",
    "rat2 = Restaurant(\"Rattatouille\", (48,48), 15, 23)\n",
    "App.add_restaurants(chicki, 4)\n",
    "App.add_restaurants(rat2, 10)\n",
    "App.info()"
   ]
  },
  {
   "cell_type": "markdown",
   "id": "5a8aafdb",
   "metadata": {},
   "source": [
    "For Task 3, I recreated the sample output with my previously established methods."
   ]
  },
  {
   "cell_type": "code",
   "execution_count": 353,
   "id": "0df33c43",
   "metadata": {},
   "outputs": [
    {
     "name": "stdout",
     "output_type": "stream",
     "text": [
      "There are no restaurants open at this time...\n",
      "Best option is the None Rating: None Distance: -1\n",
      "Best option is the Restaurant: Rattatouille, in X: 48, Y: 48, Opening hours: 15-23 Rating: 10/10 Distance: 96\n",
      "Location Changed\n",
      "Best option is the Restaurant: Chick-fil-A, in X: 25, Y: 36, Opening hours: 9-22 Rating: 4/10 Distance: 39\n"
     ]
    }
   ],
   "source": [
    "# Task 3\n",
    "choice, rating, dist = App.where_to_eat(8)\n",
    "print (\"Best option is the\", choice, \"Rating:\", rating, \"Distance:\", dist)\n",
    "choice, rating, dist = App.where_to_eat(22)\n",
    "print (\"Best option is the\", choice, \"Rating:\", rating, \"Distance:\", dist)\n",
    "App.reload_location(50,50)\n",
    "choice, rating, dist = App.where_to_eat(10)\n",
    "print (\"Best option is the\", choice, \"Rating:\", rating, \"Distance:\", dist)"
   ]
  },
  {
   "cell_type": "code",
   "execution_count": 344,
   "id": "25a13088",
   "metadata": {},
   "outputs": [
    {
     "name": "stdout",
     "output_type": "stream",
     "text": [
      "Location Changed\n",
      "Best option is the Restaurant: Chick-fil-A, in X: 25, Y: 36, Opening hours: 9-22 Rating: 4/10 Distance: 0\n"
     ]
    }
   ],
   "source": [
    "# Test for user and restaurant location to be in the same place:\n",
    "App.reload_location(25,36)\n",
    "choice, rating, dist = App.where_to_eat(18)\n",
    "print (\"Best option is the\", choice, \"Rating:\", rating, \"Distance:\", dist)"
   ]
  }
 ],
 "metadata": {
  "kernelspec": {
   "display_name": "Python 3 (ipykernel)",
   "language": "python",
   "name": "python3"
  },
  "language_info": {
   "codemirror_mode": {
    "name": "ipython",
    "version": 3
   },
   "file_extension": ".py",
   "mimetype": "text/x-python",
   "name": "python",
   "nbconvert_exporter": "python",
   "pygments_lexer": "ipython3",
   "version": "3.9.13"
  }
 },
 "nbformat": 4,
 "nbformat_minor": 5
}
